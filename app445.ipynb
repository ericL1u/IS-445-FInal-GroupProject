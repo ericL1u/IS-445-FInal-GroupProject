{
 "cells": [
  {
   "cell_type": "code",
   "execution_count": 17,
   "id": "c63e4a4d",
   "metadata": {},
   "outputs": [],
   "source": [
    "import matplotlib.pyplot as plt\n",
    "import pandas as pd\n",
    "import numpy as np\n",
    "import ipywidgets\n",
    "import warnings\n",
    "warnings.filterwarnings(\"ignore\")\n"
   ]
  },
  {
   "cell_type": "code",
   "execution_count": 18,
   "id": "0cd3a097",
   "metadata": {},
   "outputs": [],
   "source": [
    "# Load data \n",
    "tennis_df = pd.read_csv(\"ATP.csv\",  \n",
    "                        dtype=str)"
   ]
  },
  {
   "cell_type": "code",
   "execution_count": 27,
   "id": "0df75784",
   "metadata": {},
   "outputs": [],
   "source": [
    " #tennis_df"
   ]
  },
  {
   "cell_type": "code",
   "execution_count": 20,
   "id": "b20f13ee",
   "metadata": {},
   "outputs": [],
   "source": [
    "# Convert numerical values to float\n",
    "numeric_columns = ['w_ace', 'l_ace', 'w_df', 'l_df', 'w_bpSaved', 'l_bpSaved', 'winner_rank', 'loser_rank', 'winner_age', 'loser_age', 'winner_ht', 'loser_ht', 'w_svpt', 'l_svpt', 'minutes']\n",
    "tennis_df[numeric_columns] = tennis_df[numeric_columns].astype(float)"
   ]
  },
  {
   "cell_type": "code",
   "execution_count": 21,
   "id": "b3a49308",
   "metadata": {},
   "outputs": [],
   "source": [
    "# Create new columns storing year and year/month attributes\n",
    "tennis_df['tourney_yearmonth'] = tennis_df.tourney_date.astype(str).str[:6]\n",
    "tennis_df['tourney_year'] = tennis_df.tourney_date.astype(str).str[:4]\n",
    "tennis_df['tourney_year'] = tennis_df['tourney_year'].astype(int)"
   ]
  },
  {
   "cell_type": "code",
   "execution_count": 25,
   "id": "22c0b810",
   "metadata": {},
   "outputs": [],
   "source": [
    "# tennis_df"
   ]
  },
  {
   "cell_type": "markdown",
   "id": "580f261d",
   "metadata": {},
   "source": [
    "Guangyuanliu"
   ]
  },
  {
   "cell_type": "code",
   "execution_count": 28,
   "id": "023b9133",
   "metadata": {},
   "outputs": [
    {
     "data": {
      "application/vnd.jupyter.widget-view+json": {
       "model_id": "7348c5672dc34cf18e63e59726e18e0d",
       "version_major": 2,
       "version_minor": 0
      },
      "text/plain": [
       "interactive(children=(Dropdown(description='dimensions', options=('winner_rank', 'loser_rank', 'winner_age', '…"
      ]
     },
     "metadata": {},
     "output_type": "display_data"
    }
   ],
   "source": [
    "@ipywidgets.interact(dimensions = ['winner_rank','loser_rank','winner_age','loser_age','winner_ht','loser_ht','w_svpt','l_svpt'])\n",
    "\n",
    "\n",
    "def position(dimensions):\n",
    "    tennis_df[dimensions].plot(kind='hist',title = dimensions,figsize=(15,5), stacked=True)\n"
   ]
  },
  {
   "cell_type": "markdown",
   "id": "3f6930d0",
   "metadata": {},
   "source": [
    "Dezhou chen"
   ]
  },
  {
   "cell_type": "code",
   "execution_count": 36,
   "id": "39403b78",
   "metadata": {},
   "outputs": [
    {
     "data": {
      "application/vnd.jupyter.widget-view+json": {
       "model_id": "7ea5c09e165b4960b8f15e0fd800e23a",
       "version_major": 2,
       "version_minor": 0
      },
      "text/plain": [
       "interactive(children=(Dropdown(description='country', options=('ARG', 'ESP', 'SUI', 'USA', 'SRB'), value='ARG'…"
      ]
     },
     "metadata": {},
     "output_type": "display_data"
    }
   ],
   "source": [
    "@ipywidgets.interact(country = ['ARG','ESP','SUI','USA','SRB'])\n",
    "\n",
    "def position(country):\n",
    "    s = tennis_df[(tennis_df['tourney_level'] == 'G') & (tennis_df['winner_ioc'].isin([country]))].groupby(['tourney_year','winner_ioc']).agg('count')\n",
    "    plt.plot(s['tourney_id'].index.get_level_values(0), s['tourney_id'].values, color='blue', linestyle='dashed', marker='o', markerfacecolor='blue', markersize=2, label='Argentina')\n",
    "\n"
   ]
  },
  {
   "cell_type": "markdown",
   "id": "19b38a3a",
   "metadata": {},
   "source": []
  },
  {
   "cell_type": "code",
   "execution_count": null,
   "id": "c6f8476c",
   "metadata": {},
   "outputs": [],
   "source": []
  },
  {
   "cell_type": "markdown",
   "id": "ae47bdf5",
   "metadata": {},
   "source": []
  },
  {
   "cell_type": "code",
   "execution_count": null,
   "id": "fa734296",
   "metadata": {},
   "outputs": [],
   "source": []
  },
  {
   "cell_type": "code",
   "execution_count": null,
   "id": "d4040470",
   "metadata": {},
   "outputs": [],
   "source": []
  }
 ],
 "metadata": {
  "kernelspec": {
   "display_name": "Python 3 (ipykernel)",
   "language": "python",
   "name": "python3"
  },
  "language_info": {
   "codemirror_mode": {
    "name": "ipython",
    "version": 3
   },
   "file_extension": ".py",
   "mimetype": "text/x-python",
   "name": "python",
   "nbconvert_exporter": "python",
   "pygments_lexer": "ipython3",
   "version": "3.9.7"
  }
 },
 "nbformat": 4,
 "nbformat_minor": 5
}
