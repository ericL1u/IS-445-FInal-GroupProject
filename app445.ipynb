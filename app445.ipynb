{
 "cells": [
  {
   "cell_type": "markdown",
   "id": "3d792165",
   "metadata": {
    "extensions": {
     "jupyter_dashboards": {
      "version": 1,
      "views": {
       "default_view": {
        "col": 0,
        "height": 3,
        "row": 0,
        "width": 12
       }
      }
     }
    }
   },
   "source": [
    "# IS-445-FINAL-Presentation"
   ]
  },
  {
   "cell_type": "markdown",
   "id": "bd23af25",
   "metadata": {
    "extensions": {
     "jupyter_dashboards": {
      "version": 1,
      "views": {
       "default_view": {
        "col": 0,
        "height": 8,
        "row": 3,
        "width": 12
       }
      }
     }
    }
   },
   "source": [
    "# Group L\n",
    "+ Guangyuan Liu\n",
    "+ Dezhou Chen\n",
    "+ Saurav Rathod\n",
    "+ Daksh Shah"
   ]
  },
  {
   "cell_type": "code",
   "execution_count": 39,
   "id": "43cc5d50",
   "metadata": {
    "extensions": {
     "jupyter_dashboards": {
      "version": 1,
      "views": {
       "default_view": {
        "hidden": true
       }
      }
     }
    }
   },
   "outputs": [],
   "source": [
    "import matplotlib.pyplot as plt\n",
    "import pandas as pd\n",
    "import numpy as np\n",
    "import ipywidgets\n",
    "import warnings\n",
    "import seaborn as sns\n",
    "warnings.filterwarnings(\"ignore\")"
   ]
  },
  {
   "cell_type": "code",
   "execution_count": 40,
   "id": "cf77d353",
   "metadata": {
    "extensions": {
     "jupyter_dashboards": {
      "version": 1,
      "views": {
       "default_view": {
        "hidden": true
       }
      }
     }
    }
   },
   "outputs": [],
   "source": [
    "# Load data \n",
    "tennis_df = pd.read_csv(\"ATP.csv\",  \n",
    "                        dtype=str)\n",
    "df = tennis_df"
   ]
  },
  {
   "cell_type": "markdown",
   "id": "b5978721",
   "metadata": {
    "extensions": {
     "jupyter_dashboards": {
      "version": 1,
      "views": {
       "default_view": {
        "col": 0,
        "height": 3,
        "row": 11,
        "width": 12
       }
      }
     }
    }
   },
   "source": [
    "# TENNIS DATASET (2000-2020)"
   ]
  },
  {
   "cell_type": "code",
   "execution_count": 41,
   "id": "0ef019d9",
   "metadata": {
    "extensions": {
     "jupyter_dashboards": {
      "version": 1,
      "views": {
       "default_view": {
        "col": 0,
        "height": 12,
        "row": 14,
        "width": 12
       }
      }
     }
    }
   },
   "outputs": [
    {
     "data": {
      "text/html": [
       "<div>\n",
       "<style scoped>\n",
       "    .dataframe tbody tr th:only-of-type {\n",
       "        vertical-align: middle;\n",
       "    }\n",
       "\n",
       "    .dataframe tbody tr th {\n",
       "        vertical-align: top;\n",
       "    }\n",
       "\n",
       "    .dataframe thead th {\n",
       "        text-align: right;\n",
       "    }\n",
       "</style>\n",
       "<table border=\"1\" class=\"dataframe\">\n",
       "  <thead>\n",
       "    <tr style=\"text-align: right;\">\n",
       "      <th></th>\n",
       "      <th>best_of</th>\n",
       "      <th>draw_size</th>\n",
       "      <th>l_1stIn</th>\n",
       "      <th>l_1stWon</th>\n",
       "      <th>l_2ndWon</th>\n",
       "      <th>l_SvGms</th>\n",
       "      <th>l_ace</th>\n",
       "      <th>l_bpFaced</th>\n",
       "      <th>l_bpSaved</th>\n",
       "      <th>l_df</th>\n",
       "      <th>...</th>\n",
       "      <th>winner_age</th>\n",
       "      <th>winner_entry</th>\n",
       "      <th>winner_hand</th>\n",
       "      <th>winner_ht</th>\n",
       "      <th>winner_id</th>\n",
       "      <th>winner_ioc</th>\n",
       "      <th>winner_name</th>\n",
       "      <th>winner_rank</th>\n",
       "      <th>winner_rank_points</th>\n",
       "      <th>winner_seed</th>\n",
       "    </tr>\n",
       "  </thead>\n",
       "  <tbody>\n",
       "    <tr>\n",
       "      <th>0</th>\n",
       "      <td>5</td>\n",
       "      <td>64.0</td>\n",
       "      <td>NaN</td>\n",
       "      <td>NaN</td>\n",
       "      <td>NaN</td>\n",
       "      <td>NaN</td>\n",
       "      <td>NaN</td>\n",
       "      <td>NaN</td>\n",
       "      <td>NaN</td>\n",
       "      <td>NaN</td>\n",
       "      <td>...</td>\n",
       "      <td>NaN</td>\n",
       "      <td>NaN</td>\n",
       "      <td>R</td>\n",
       "      <td>NaN</td>\n",
       "      <td>110023</td>\n",
       "      <td>AUS</td>\n",
       "      <td>Richard Coulthard</td>\n",
       "      <td>NaN</td>\n",
       "      <td>NaN</td>\n",
       "      <td>NaN</td>\n",
       "    </tr>\n",
       "    <tr>\n",
       "      <th>1</th>\n",
       "      <td>5</td>\n",
       "      <td>64.0</td>\n",
       "      <td>NaN</td>\n",
       "      <td>NaN</td>\n",
       "      <td>NaN</td>\n",
       "      <td>NaN</td>\n",
       "      <td>NaN</td>\n",
       "      <td>NaN</td>\n",
       "      <td>NaN</td>\n",
       "      <td>NaN</td>\n",
       "      <td>...</td>\n",
       "      <td>27.5208761123</td>\n",
       "      <td>NaN</td>\n",
       "      <td>R</td>\n",
       "      <td>NaN</td>\n",
       "      <td>109803</td>\n",
       "      <td>AUS</td>\n",
       "      <td>John Brown</td>\n",
       "      <td>NaN</td>\n",
       "      <td>NaN</td>\n",
       "      <td>NaN</td>\n",
       "    </tr>\n",
       "    <tr>\n",
       "      <th>2</th>\n",
       "      <td>5</td>\n",
       "      <td>64.0</td>\n",
       "      <td>NaN</td>\n",
       "      <td>NaN</td>\n",
       "      <td>NaN</td>\n",
       "      <td>NaN</td>\n",
       "      <td>NaN</td>\n",
       "      <td>NaN</td>\n",
       "      <td>NaN</td>\n",
       "      <td>NaN</td>\n",
       "      <td>...</td>\n",
       "      <td>16.2162902122</td>\n",
       "      <td>NaN</td>\n",
       "      <td>R</td>\n",
       "      <td>NaN</td>\n",
       "      <td>100257</td>\n",
       "      <td>AUS</td>\n",
       "      <td>Ross Case</td>\n",
       "      <td>NaN</td>\n",
       "      <td>NaN</td>\n",
       "      <td>NaN</td>\n",
       "    </tr>\n",
       "    <tr>\n",
       "      <th>3</th>\n",
       "      <td>5</td>\n",
       "      <td>64.0</td>\n",
       "      <td>NaN</td>\n",
       "      <td>NaN</td>\n",
       "      <td>NaN</td>\n",
       "      <td>NaN</td>\n",
       "      <td>NaN</td>\n",
       "      <td>NaN</td>\n",
       "      <td>NaN</td>\n",
       "      <td>NaN</td>\n",
       "      <td>...</td>\n",
       "      <td>22.264202600999997</td>\n",
       "      <td>NaN</td>\n",
       "      <td>R</td>\n",
       "      <td>NaN</td>\n",
       "      <td>100105</td>\n",
       "      <td>AUS</td>\n",
       "      <td>Allan Stone</td>\n",
       "      <td>NaN</td>\n",
       "      <td>NaN</td>\n",
       "      <td>5.0</td>\n",
       "    </tr>\n",
       "    <tr>\n",
       "      <th>4</th>\n",
       "      <td>5</td>\n",
       "      <td>64.0</td>\n",
       "      <td>NaN</td>\n",
       "      <td>NaN</td>\n",
       "      <td>NaN</td>\n",
       "      <td>NaN</td>\n",
       "      <td>NaN</td>\n",
       "      <td>NaN</td>\n",
       "      <td>NaN</td>\n",
       "      <td>NaN</td>\n",
       "      <td>...</td>\n",
       "      <td>29.8617385352</td>\n",
       "      <td>NaN</td>\n",
       "      <td>R</td>\n",
       "      <td>NaN</td>\n",
       "      <td>109966</td>\n",
       "      <td>AUS</td>\n",
       "      <td>Warren Jacques</td>\n",
       "      <td>NaN</td>\n",
       "      <td>NaN</td>\n",
       "      <td>NaN</td>\n",
       "    </tr>\n",
       "    <tr>\n",
       "      <th>...</th>\n",
       "      <td>...</td>\n",
       "      <td>...</td>\n",
       "      <td>...</td>\n",
       "      <td>...</td>\n",
       "      <td>...</td>\n",
       "      <td>...</td>\n",
       "      <td>...</td>\n",
       "      <td>...</td>\n",
       "      <td>...</td>\n",
       "      <td>...</td>\n",
       "      <td>...</td>\n",
       "      <td>...</td>\n",
       "      <td>...</td>\n",
       "      <td>...</td>\n",
       "      <td>...</td>\n",
       "      <td>...</td>\n",
       "      <td>...</td>\n",
       "      <td>...</td>\n",
       "      <td>...</td>\n",
       "      <td>...</td>\n",
       "      <td>...</td>\n",
       "    </tr>\n",
       "    <tr>\n",
       "      <th>169685</th>\n",
       "      <td>3</td>\n",
       "      <td>NaN</td>\n",
       "      <td>54.0</td>\n",
       "      <td>43.0</td>\n",
       "      <td>16.0</td>\n",
       "      <td>15.0</td>\n",
       "      <td>13.0</td>\n",
       "      <td>5.0</td>\n",
       "      <td>3.0</td>\n",
       "      <td>1.0</td>\n",
       "      <td>...</td>\n",
       "      <td>22.74</td>\n",
       "      <td>NaN</td>\n",
       "      <td>R</td>\n",
       "      <td>NaN</td>\n",
       "      <td>106426</td>\n",
       "      <td>CHI</td>\n",
       "      <td>Christian Garin</td>\n",
       "      <td>92.0</td>\n",
       "      <td>620.0</td>\n",
       "      <td>NaN</td>\n",
       "    </tr>\n",
       "    <tr>\n",
       "      <th>169686</th>\n",
       "      <td>3</td>\n",
       "      <td>NaN</td>\n",
       "      <td>23.0</td>\n",
       "      <td>12.0</td>\n",
       "      <td>5.0</td>\n",
       "      <td>7.0</td>\n",
       "      <td>0.0</td>\n",
       "      <td>8.0</td>\n",
       "      <td>3.0</td>\n",
       "      <td>2.0</td>\n",
       "      <td>...</td>\n",
       "      <td>20.18</td>\n",
       "      <td>NaN</td>\n",
       "      <td>R</td>\n",
       "      <td>NaN</td>\n",
       "      <td>134770</td>\n",
       "      <td>NOR</td>\n",
       "      <td>Casper Ruud</td>\n",
       "      <td>108.0</td>\n",
       "      <td>527.0</td>\n",
       "      <td>NaN</td>\n",
       "    </tr>\n",
       "    <tr>\n",
       "      <th>169687</th>\n",
       "      <td>3</td>\n",
       "      <td>NaN</td>\n",
       "      <td>56.0</td>\n",
       "      <td>39.0</td>\n",
       "      <td>13.0</td>\n",
       "      <td>12.0</td>\n",
       "      <td>5.0</td>\n",
       "      <td>5.0</td>\n",
       "      <td>3.0</td>\n",
       "      <td>1.0</td>\n",
       "      <td>...</td>\n",
       "      <td>28.78</td>\n",
       "      <td>NaN</td>\n",
       "      <td>L</td>\n",
       "      <td>185.0</td>\n",
       "      <td>105550</td>\n",
       "      <td>ARG</td>\n",
       "      <td>Guido Pella</td>\n",
       "      <td>48.0</td>\n",
       "      <td>975.0</td>\n",
       "      <td>3.0</td>\n",
       "    </tr>\n",
       "    <tr>\n",
       "      <th>169688</th>\n",
       "      <td>3</td>\n",
       "      <td>NaN</td>\n",
       "      <td>34.0</td>\n",
       "      <td>24.0</td>\n",
       "      <td>11.0</td>\n",
       "      <td>10.0</td>\n",
       "      <td>5.0</td>\n",
       "      <td>6.0</td>\n",
       "      <td>3.0</td>\n",
       "      <td>0.0</td>\n",
       "      <td>...</td>\n",
       "      <td>22.74</td>\n",
       "      <td>NaN</td>\n",
       "      <td>R</td>\n",
       "      <td>NaN</td>\n",
       "      <td>106426</td>\n",
       "      <td>CHI</td>\n",
       "      <td>Christian Garin</td>\n",
       "      <td>92.0</td>\n",
       "      <td>620.0</td>\n",
       "      <td>NaN</td>\n",
       "    </tr>\n",
       "    <tr>\n",
       "      <th>169689</th>\n",
       "      <td>3</td>\n",
       "      <td>NaN</td>\n",
       "      <td>35.0</td>\n",
       "      <td>26.0</td>\n",
       "      <td>9.0</td>\n",
       "      <td>11.0</td>\n",
       "      <td>5.0</td>\n",
       "      <td>7.0</td>\n",
       "      <td>3.0</td>\n",
       "      <td>4.0</td>\n",
       "      <td>...</td>\n",
       "      <td>28.78</td>\n",
       "      <td>NaN</td>\n",
       "      <td>L</td>\n",
       "      <td>185.0</td>\n",
       "      <td>105550</td>\n",
       "      <td>ARG</td>\n",
       "      <td>Guido Pella</td>\n",
       "      <td>48.0</td>\n",
       "      <td>975.0</td>\n",
       "      <td>3.0</td>\n",
       "    </tr>\n",
       "  </tbody>\n",
       "</table>\n",
       "<p>169690 rows × 49 columns</p>\n",
       "</div>"
      ],
      "text/plain": [
       "       best_of draw_size l_1stIn l_1stWon l_2ndWon l_SvGms l_ace l_bpFaced  \\\n",
       "0            5      64.0     NaN      NaN      NaN     NaN   NaN       NaN   \n",
       "1            5      64.0     NaN      NaN      NaN     NaN   NaN       NaN   \n",
       "2            5      64.0     NaN      NaN      NaN     NaN   NaN       NaN   \n",
       "3            5      64.0     NaN      NaN      NaN     NaN   NaN       NaN   \n",
       "4            5      64.0     NaN      NaN      NaN     NaN   NaN       NaN   \n",
       "...        ...       ...     ...      ...      ...     ...   ...       ...   \n",
       "169685       3       NaN    54.0     43.0     16.0    15.0  13.0       5.0   \n",
       "169686       3       NaN    23.0     12.0      5.0     7.0   0.0       8.0   \n",
       "169687       3       NaN    56.0     39.0     13.0    12.0   5.0       5.0   \n",
       "169688       3       NaN    34.0     24.0     11.0    10.0   5.0       6.0   \n",
       "169689       3       NaN    35.0     26.0      9.0    11.0   5.0       7.0   \n",
       "\n",
       "       l_bpSaved l_df  ...          winner_age winner_entry winner_hand  \\\n",
       "0            NaN  NaN  ...                 NaN          NaN           R   \n",
       "1            NaN  NaN  ...       27.5208761123          NaN           R   \n",
       "2            NaN  NaN  ...       16.2162902122          NaN           R   \n",
       "3            NaN  NaN  ...  22.264202600999997          NaN           R   \n",
       "4            NaN  NaN  ...       29.8617385352          NaN           R   \n",
       "...          ...  ...  ...                 ...          ...         ...   \n",
       "169685       3.0  1.0  ...               22.74          NaN           R   \n",
       "169686       3.0  2.0  ...               20.18          NaN           R   \n",
       "169687       3.0  1.0  ...               28.78          NaN           L   \n",
       "169688       3.0  0.0  ...               22.74          NaN           R   \n",
       "169689       3.0  4.0  ...               28.78          NaN           L   \n",
       "\n",
       "       winner_ht winner_id winner_ioc        winner_name winner_rank  \\\n",
       "0            NaN    110023        AUS  Richard Coulthard         NaN   \n",
       "1            NaN    109803        AUS         John Brown         NaN   \n",
       "2            NaN    100257        AUS          Ross Case         NaN   \n",
       "3            NaN    100105        AUS        Allan Stone         NaN   \n",
       "4            NaN    109966        AUS     Warren Jacques         NaN   \n",
       "...          ...       ...        ...                ...         ...   \n",
       "169685       NaN    106426        CHI    Christian Garin        92.0   \n",
       "169686       NaN    134770        NOR        Casper Ruud       108.0   \n",
       "169687     185.0    105550        ARG        Guido Pella        48.0   \n",
       "169688       NaN    106426        CHI    Christian Garin        92.0   \n",
       "169689     185.0    105550        ARG        Guido Pella        48.0   \n",
       "\n",
       "       winner_rank_points winner_seed  \n",
       "0                     NaN         NaN  \n",
       "1                     NaN         NaN  \n",
       "2                     NaN         NaN  \n",
       "3                     NaN         5.0  \n",
       "4                     NaN         NaN  \n",
       "...                   ...         ...  \n",
       "169685              620.0         NaN  \n",
       "169686              527.0         NaN  \n",
       "169687              975.0         3.0  \n",
       "169688              620.0         NaN  \n",
       "169689              975.0         3.0  \n",
       "\n",
       "[169690 rows x 49 columns]"
      ]
     },
     "execution_count": 41,
     "metadata": {},
     "output_type": "execute_result"
    }
   ],
   "source": [
    "tennis_df"
   ]
  },
  {
   "cell_type": "code",
   "execution_count": 42,
   "id": "f090113a",
   "metadata": {
    "extensions": {
     "jupyter_dashboards": {
      "version": 1,
      "views": {
       "default_view": {
        "hidden": true
       }
      }
     }
    }
   },
   "outputs": [],
   "source": [
    "# Create new columns storing year and year/month attributes\n",
    "df['tourney_yearmonth'] = df.tourney_date.astype(str).str[:6]\n",
    "df['tourney_year'] = df.tourney_date.astype(str).str[:4]\n",
    "df['tourney_year'] = df['tourney_year'].astype(int)"
   ]
  },
  {
   "cell_type": "code",
   "execution_count": 43,
   "id": "51f2212d",
   "metadata": {
    "extensions": {
     "jupyter_dashboards": {
      "version": 1,
      "views": {
       "default_view": {
        "hidden": true
       }
      }
     }
    }
   },
   "outputs": [],
   "source": [
    "winners = df['winner_name'].value_counts()\n",
    "losers = df['loser_name'].value_counts()\n",
    "\n",
    "winners_df = pd.DataFrame(df['winner_name'].value_counts())\n",
    "winners_df['name'] = winners_df.index\n",
    "winners_df['win_count'] = winners_df['winner_name']\n",
    "winners_df.drop(['winner_name'], axis = 1, inplace = True)\n",
    "winners_df.reset_index(inplace = True, drop = True)"
   ]
  },
  {
   "cell_type": "code",
   "execution_count": 44,
   "id": "872d69bf",
   "metadata": {
    "extensions": {
     "jupyter_dashboards": {
      "version": 1,
      "views": {
       "default_view": {
        "hidden": true
       }
      }
     }
    }
   },
   "outputs": [],
   "source": [
    "losers_list = winners_df['name'].to_list()\n",
    "#losers_list\n",
    "losers = losers.reindex(losers_list, axis = 0)"
   ]
  },
  {
   "cell_type": "code",
   "execution_count": 45,
   "id": "4333d3c1",
   "metadata": {
    "extensions": {
     "jupyter_dashboards": {
      "version": 1,
      "views": {
       "default_view": {
        "hidden": true
       }
      }
     }
    }
   },
   "outputs": [],
   "source": [
    "winners_df['lost_count'] = losers.values"
   ]
  },
  {
   "cell_type": "code",
   "execution_count": 46,
   "id": "b2bda82f",
   "metadata": {
    "extensions": {
     "jupyter_dashboards": {
      "version": 1,
      "views": {
       "default_view": {
        "hidden": true
       }
      }
     }
    }
   },
   "outputs": [],
   "source": [
    "winners_df['total'] = winners_df['win_count'] + winners_df['lost_count']"
   ]
  },
  {
   "cell_type": "code",
   "execution_count": 47,
   "id": "fb7be0b0",
   "metadata": {
    "extensions": {
     "jupyter_dashboards": {
      "version": 1,
      "views": {
       "default_view": {
        "hidden": true
       }
      }
     }
    }
   },
   "outputs": [],
   "source": [
    "new_df = winners_df.iloc[0:10]"
   ]
  },
  {
   "cell_type": "markdown",
   "id": "b7f23982",
   "metadata": {
    "extensions": {
     "jupyter_dashboards": {
      "version": 1,
      "views": {
       "default_view": {
        "col": 0,
        "height": 2,
        "row": 26,
        "width": 12
       }
      }
     }
    }
   },
   "source": [
    "DAKSH SHAH"
   ]
  },
  {
   "cell_type": "code",
   "execution_count": 48,
   "id": "b4e55f26",
   "metadata": {
    "extensions": {
     "jupyter_dashboards": {
      "version": 1,
      "views": {
       "default_view": {
        "col": 6,
        "height": 17,
        "row": 28,
        "width": 6
       }
      }
     }
    }
   },
   "outputs": [
    {
     "data": {
      "image/png": "[encoded data removed]",
      "text/plain": [
       "<Figure size 1080x720 with 1 Axes>"
      ]
     },
     "metadata": {
      "needs_background": "light"
     },
     "output_type": "display_data"
    }
   ],
   "source": [
    "f, ax = plt.subplots(figsize=(15, 10))\n",
    "sns.set_color_codes(\"pastel\")\n",
    "sns.barplot(x=\"total\", y=\"name\", data=new_df, label=\"Total Played\", color=\"b\")\n",
    "sns.set_color_codes(\"muted\")\n",
    "sns.barplot(x=\"win_count\", y=\"name\", data=new_df, label=\"Wins\", color=\"b\")\n",
    "ax.legend(ncol=1, loc=\"lower right\", frameon=True)\n",
    "ax.set(xlim=(0, 1800), ylabel=\"Top 10 players\",\n",
    "       xlabel=\"Matches\", title=\"Players' win ratios with most matches\")\n",
    "sns.despine(left=True, bottom=False)"
   ]
  },
  {
   "cell_type": "code",
   "execution_count": 49,
   "id": "956cebbf",
   "metadata": {
    "extensions": {
     "jupyter_dashboards": {
      "version": 1,
      "views": {
       "default_view": {
        "col": 0,
        "height": 9,
        "row": 28,
        "width": 6
       }
      }
     }
    }
   },
   "outputs": [
    {
     "data": {
      "application/vnd.jupyter.widget-view+json": {
       "model_id": "424a55dc6d3244d5b8b7c4b8643f1073",
       "version_major": 2,
       "version_minor": 0
      },
      "text/plain": [
       "interactive(children=(Dropdown(description='surface', options=('Hard', 'Grass', 'Clay', 'Carpet'), value='Hard…"
      ]
     },
     "metadata": {},
     "output_type": "display_data"
    }
   ],
   "source": [
    "@ipywidgets.interact(surface = ['Hard', 'Grass', 'Clay', 'Carpet'])\n",
    "\n",
    "def position(surface):\n",
    "    ret_df = df[df['score'].str.contains(\"RET\")==True][['tourney_year','tourney_level','surface','tourney_id','winner_name']]\n",
    "    ref_df_f = ret_df.groupby(['tourney_year','surface'], as_index=False).agg('count')\n",
    "    \n",
    "    fig = plt.figure(figsize=(15,5))\n",
    "    ax = fig.add_subplot(111)\n",
    "    plt.style.use('seaborn-colorblind')\n",
    "    \n",
    "    plt.title('Retirements - Evolution of Retirements by Surface')\n",
    "    plt.ylabel('Number of Retirements')\n",
    "    plt.xlabel('Year')\n",
    "    \n",
    "    plt.plot(ref_df_f[ref_df_f['surface']==surface]['tourney_year'], ref_df_f[ref_df_f['surface']==surface]['tourney_id'], linestyle='solid', linewidth=2)"
   ]
  },
  {
   "cell_type": "code",
   "execution_count": 50,
   "id": "dbe3e6d0",
   "metadata": {
    "extensions": {
     "jupyter_dashboards": {
      "version": 1,
      "views": {
       "default_view": {
        "hidden": true
       }
      }
     }
    }
   },
   "outputs": [],
   "source": [
    "fserves = df['w_1stIn'].value_counts()"
   ]
  },
  {
   "cell_type": "code",
   "execution_count": 51,
   "id": "3f6622f4",
   "metadata": {
    "extensions": {
     "jupyter_dashboards": {
      "version": 1,
      "views": {
       "default_view": {
        "hidden": true
       }
      }
     }
    }
   },
   "outputs": [],
   "source": [
    "fserves_list = winners_df['name'].to_list()\n",
    "fserves = fserves.reindex(fserves_list, axis = 0)"
   ]
  },
  {
   "cell_type": "code",
   "execution_count": 52,
   "id": "437e3a14",
   "metadata": {
    "extensions": {
     "jupyter_dashboards": {
      "version": 1,
      "views": {
       "default_view": {
        "hidden": true
       }
      }
     }
    }
   },
   "outputs": [],
   "source": [
    "winner_hands= pd.DataFrame(df.winner_hand.value_counts())"
   ]
  },
  {
   "cell_type": "code",
   "execution_count": 53,
   "id": "fef4f412",
   "metadata": {
    "extensions": {
     "jupyter_dashboards": {
      "version": 1,
      "views": {
       "default_view": {
        "hidden": true
       }
      }
     }
    }
   },
   "outputs": [],
   "source": [
    "loser_hands= pd.DataFrame(df.loser_hand.value_counts())"
   ]
  },
  {
   "cell_type": "code",
   "execution_count": 54,
   "id": "bf27ef63",
   "metadata": {
    "extensions": {
     "jupyter_dashboards": {
      "version": 1,
      "views": {
       "default_view": {
        "hidden": true
       }
      }
     }
    }
   },
   "outputs": [],
   "source": [
    "x= winner_hands + loser_hands"
   ]
  },
  {
   "cell_type": "code",
   "execution_count": 55,
   "id": "b81be534",
   "metadata": {
    "extensions": {
     "jupyter_dashboards": {
      "version": 1,
      "views": {
       "default_view": {
        "hidden": true
       }
      }
     }
    }
   },
   "outputs": [],
   "source": [
    "df_xyz= winner_hands.copy()"
   ]
  },
  {
   "cell_type": "code",
   "execution_count": 56,
   "id": "9d205a0e",
   "metadata": {
    "extensions": {
     "jupyter_dashboards": {
      "version": 1,
      "views": {
       "default_view": {
        "hidden": true
       }
      }
     }
    }
   },
   "outputs": [],
   "source": [
    "df_xyz['new'] = loser_hands['loser_hand']"
   ]
  },
  {
   "cell_type": "code",
   "execution_count": 57,
   "id": "21b46467",
   "metadata": {
    "extensions": {
     "jupyter_dashboards": {
      "version": 1,
      "views": {
       "default_view": {
        "hidden": true
       }
      }
     }
    }
   },
   "outputs": [],
   "source": [
    "hands= pd.concat([winner_hands,loser_hands], axis = 1)"
   ]
  },
  {
   "cell_type": "code",
   "execution_count": 58,
   "id": "208cc4b5",
   "metadata": {
    "extensions": {
     "jupyter_dashboards": {
      "version": 1,
      "views": {
       "default_view": {
        "hidden": true
       }
      }
     }
    }
   },
   "outputs": [],
   "source": [
    "hands['total_matches_played']= hands['winner_hand']+ hands['loser_hand']"
   ]
  },
  {
   "cell_type": "code",
   "execution_count": 59,
   "id": "1f06316f",
   "metadata": {
    "extensions": {
     "jupyter_dashboards": {
      "version": 1,
      "views": {
       "default_view": {
        "hidden": true
       }
      }
     }
    }
   },
   "outputs": [],
   "source": [
    "temp  = df[['winner_name', 'winner_hand']].drop_duplicates('winner_name')"
   ]
  },
  {
   "cell_type": "markdown",
   "id": "fecfcd58",
   "metadata": {
    "extensions": {
     "jupyter_dashboards": {
      "version": 1,
      "views": {
       "default_view": {
        "col": 0,
        "height": 2,
        "row": 45,
        "width": 12
       }
      }
     }
    }
   },
   "source": [
    "SAURAV RATHOD"
   ]
  },
  {
   "cell_type": "code",
   "execution_count": 60,
   "id": "368e1a8d",
   "metadata": {
    "extensions": {
     "jupyter_dashboards": {
      "version": 1,
      "views": {
       "default_view": {
        "col": 0,
        "height": 10,
        "row": 47,
        "width": 6
       }
      }
     }
    }
   },
   "outputs": [
    {
     "data": {
      "image/png": "[encoded data removed]",
      "text/plain": [
       "<Figure size 432x288 with 1 Axes>"
      ]
     },
     "metadata": {
      "needs_background": "light"
     },
     "output_type": "display_data"
    }
   ],
   "source": [
    "x = np.arange(len(hands.index)) \n",
    "width = 0.30 \n",
    "\n",
    "fig, ax = plt.subplots()\n",
    "rects1 = ax.bar(x - width/2, (hands['winner_hand']/hands['total_matches_played'])*100, width, label='Winner Hand')\n",
    "rects2 = ax.bar(x + width/2, (hands['loser_hand']/hands['total_matches_played'])*100, width, label='Loser Hand')\n",
    "\n",
    "ax.set_ylabel('Total Matches')\n",
    "ax.set_title('Wins VS Loss for Right, Left and Ambidextrous players')\n",
    "ax.set_xticks(x)\n",
    "ax.set_xticklabels(hands.index)\n",
    "ax.legend()\n",
    "\n",
    "#ax.bar_label(rects1, padding=3)\n",
    "#ax.bar_label(rects2, padding=3)\n",
    "\n",
    "fig.tight_layout()\n",
    "\n",
    "plt.show()"
   ]
  },
  {
   "cell_type": "code",
   "execution_count": 61,
   "id": "ac43fa24",
   "metadata": {
    "extensions": {
     "jupyter_dashboards": {
      "version": 1,
      "views": {
       "default_view": {
        "hidden": true
       }
      }
     }
    }
   },
   "outputs": [],
   "source": [
    "temp  = df[['winner_name', 'winner_hand']].drop_duplicates('winner_name')"
   ]
  },
  {
   "cell_type": "code",
   "execution_count": 62,
   "id": "b65b2ac3",
   "metadata": {
    "extensions": {
     "jupyter_dashboards": {
      "version": 1,
      "views": {
       "default_view": {
        "hidden": true
       }
      }
     }
    }
   },
   "outputs": [],
   "source": [
    "no_winners_hand = df['winner_hand'].value_counts()\n",
    "no_losers_hand = df['loser_hand'].value_counts() "
   ]
  },
  {
   "cell_type": "code",
   "execution_count": 63,
   "id": "8900753b",
   "metadata": {
    "extensions": {
     "jupyter_dashboards": {
      "version": 1,
      "views": {
       "default_view": {
        "hidden": true
       }
      }
     }
    }
   },
   "outputs": [],
   "source": [
    "df[\"winner_name_bool\"] = df.winner_name.isin(['Rafael Nadal','Roger Federer','Novak Djokovic'])\n",
    "fav_players_winner = df[(df[\"winner_name_bool\"]==True)]\n",
    "\n",
    "df[\"loser_name_bool\"] = df.loser_name.isin(['Rafael Nadal','Roger Federer', 'Novak Djokovic'])\n",
    "fav_players_loser = df[(df[\"loser_name_bool\"]==True)]"
   ]
  },
  {
   "cell_type": "code",
   "execution_count": 64,
   "id": "b728d9a1",
   "metadata": {
    "extensions": {
     "jupyter_dashboards": {
      "version": 1,
      "views": {
       "default_view": {
        "hidden": true
       }
      }
     }
    }
   },
   "outputs": [],
   "source": [
    "winner_xyz= fav_players_winner[[\"winner_name\",\"w_1stIn\",\"tourney_year\"]]['winner_name'].groupby(fav_players_winner['tourney_year']).value_counts()"
   ]
  },
  {
   "cell_type": "code",
   "execution_count": 65,
   "id": "9e907a3b",
   "metadata": {
    "extensions": {
     "jupyter_dashboards": {
      "version": 1,
      "views": {
       "default_view": {
        "hidden": true
       }
      }
     }
    }
   },
   "outputs": [],
   "source": [
    "winner_xyz = winner_xyz[~winner_xyz.index.get_level_values(0).isin([1998, 1999])]"
   ]
  },
  {
   "cell_type": "code",
   "execution_count": 66,
   "id": "d40494ac",
   "metadata": {
    "extensions": {
     "jupyter_dashboards": {
      "version": 1,
      "views": {
       "default_view": {
        "hidden": true
       }
      }
     }
    }
   },
   "outputs": [],
   "source": [
    "df_winner = pd.DataFrame()\n",
    "df_winner['Winner_Tourney_Year'] = winner_xyz.index.get_level_values(0)\n",
    "df_winner['Winner_Player_Name'] = winner_xyz.index.get_level_values(1)\n",
    "df_winner['Win_Serve_Count'] = winner_xyz.values\n",
    "df_winner = df_winner[~df_winner['Winner_Tourney_Year'].isin([1998,1999])]\n",
    "df_winner.reset_index(inplace = True, drop = True)"
   ]
  },
  {
   "cell_type": "code",
   "execution_count": 67,
   "id": "05233b05",
   "metadata": {
    "extensions": {
     "jupyter_dashboards": {
      "version": 1,
      "views": {
       "default_view": {
        "hidden": true
       }
      }
     }
    }
   },
   "outputs": [],
   "source": [
    "loser_xyz= fav_players_loser[[\"loser_name\",\"l_1stIn\",\"tourney_year\"]]['loser_name'].groupby(fav_players_loser['tourney_year']).value_counts()"
   ]
  },
  {
   "cell_type": "code",
   "execution_count": 68,
   "id": "4823eff2",
   "metadata": {
    "extensions": {
     "jupyter_dashboards": {
      "version": 1,
      "views": {
       "default_view": {
        "hidden": true
       }
      }
     }
    }
   },
   "outputs": [],
   "source": [
    "df_loser = pd.DataFrame()\n",
    "df_loser['Loser_Tourney_Year'] = loser_xyz.index.get_level_values(0)\n",
    "df_loser['Loser_Player_Name'] = loser_xyz.index.get_level_values(1)\n",
    "df_loser['Loss_Serve_Count'] = loser_xyz.values\n",
    "df_loser = df_loser[~df_loser['Loser_Tourney_Year'].isin([1998,1999])]\n",
    "df_loser.reset_index(inplace = True, drop = True)"
   ]
  },
  {
   "cell_type": "code",
   "execution_count": 69,
   "id": "bba02340",
   "metadata": {
    "extensions": {
     "jupyter_dashboards": {
      "version": 1,
      "views": {
       "default_view": {
        "hidden": true
       }
      }
     }
    }
   },
   "outputs": [],
   "source": [
    "merged_df = pd.concat([df_winner, df_loser],axis=1)"
   ]
  },
  {
   "cell_type": "code",
   "execution_count": 70,
   "id": "b459e65e",
   "metadata": {
    "extensions": {
     "jupyter_dashboards": {
      "version": 1,
      "views": {
       "default_view": {
        "hidden": true
       }
      }
     }
    }
   },
   "outputs": [],
   "source": [
    "new_df = pd.merge(df_winner, df_loser,  how='left', left_on=['Winner_Tourney_Year','Winner_Player_Name'], right_on = ['Loser_Tourney_Year','Loser_Player_Name'])"
   ]
  },
  {
   "cell_type": "code",
   "execution_count": 71,
   "id": "c0cb8e5a",
   "metadata": {
    "extensions": {
     "jupyter_dashboards": {
      "version": 1,
      "views": {
       "default_view": {
        "hidden": true
       }
      }
     }
    }
   },
   "outputs": [],
   "source": [
    "new_df['Win_Percentage']= (new_df['Win_Serve_Count']/(new_df['Loss_Serve_Count']+new_df['Win_Serve_Count']))*100\n",
    "new_df['Loss_Percentage']= 100.00- new_df['Win_Percentage']"
   ]
  },
  {
   "cell_type": "code",
   "execution_count": 72,
   "id": "379ecd3b",
   "metadata": {
    "extensions": {
     "jupyter_dashboards": {
      "version": 1,
      "views": {
       "default_view": {
        "col": 6,
        "height": 10,
        "row": 47,
        "width": 6
       }
      }
     }
    }
   },
   "outputs": [
    {
     "data": {
      "text/plain": [
       "<matplotlib.legend.Legend at 0x7fb3db321eb0>"
      ]
     },
     "execution_count": 72,
     "metadata": {},
     "output_type": "execute_result"
    },
    {
     "data": {
      "image/png": "[encoded data removed]",
      "text/plain": [
       "<Figure size 1296x468 with 1 Axes>"
      ]
     },
     "metadata": {
      "needs_background": "light"
     },
     "output_type": "display_data"
    }
   ],
   "source": [
    "fig, ax = plt.subplots(figsize = (18,6.5))\n",
    "ax.plot(new_df['Winner_Tourney_Year'][new_df['Winner_Player_Name'] == 'Roger Federer'], new_df['Win_Percentage'][new_df['Winner_Player_Name'] == 'Roger Federer'], label = 'RF', color= '#005d5d', linewidth= 2) \n",
    "ax.plot(new_df['Winner_Tourney_Year'][new_df['Winner_Player_Name'] == 'Rafael Nadal'], new_df['Win_Percentage'][new_df['Winner_Player_Name'] == 'Rafael Nadal'], label = 'RN', color= '#ff6361', linewidth= 2) \n",
    "ax.plot(new_df['Winner_Tourney_Year'][new_df['Winner_Player_Name'] == 'Novak Djokovic'], new_df['Win_Percentage'][new_df['Winner_Player_Name'] == 'Novak Djokovic'], label = 'ND', color= '#ffa600', linewidth= 2) \n",
    "\n",
    "ax.set_xticks(new_df['Winner_Tourney_Year'])\n",
    "\n",
    "plt.title('Comparison of ', fontsize=20, fontweight='bold')\n",
    "\n",
    "ax.set_facecolor('#081a1c') \n",
    "\n",
    "ax.grid(b = False, color ='white',\n",
    "        linestyle ='dotted', linewidth = 0.9,\n",
    "        alpha = 0.3, zorder = 1)\n",
    "\n",
    "    \n",
    "ax.set_ylabel('Winner Serve Count', fontsize= 18)\n",
    "ax.set_xlabel('Year', fontsize= 18)\n",
    "\n",
    "ax.legend()\n"
   ]
  },
  {
   "cell_type": "code",
   "execution_count": 73,
   "id": "ed975565",
   "metadata": {
    "extensions": {
     "jupyter_dashboards": {
      "version": 1,
      "views": {
       "default_view": {
        "hidden": true
       }
      }
     }
    }
   },
   "outputs": [],
   "source": [
    "# Convert numerical values to float\n",
    "numeric_columns = ['w_ace', 'l_ace', 'w_df', 'l_df', 'w_bpSaved', 'l_bpSaved', 'winner_rank', 'loser_rank', 'winner_age', 'loser_age', 'winner_ht', 'loser_ht', 'w_svpt', 'l_svpt', 'minutes']\n",
    "tennis_df[numeric_columns] = tennis_df[numeric_columns].astype(float)"
   ]
  },
  {
   "cell_type": "code",
   "execution_count": 74,
   "id": "27d15305",
   "metadata": {
    "extensions": {
     "jupyter_dashboards": {
      "version": 1,
      "views": {
       "default_view": {
        "hidden": true
       }
      }
     }
    }
   },
   "outputs": [],
   "source": [
    "# Create new columns storing year and year/month attributes\n",
    "tennis_df['tourney_yearmonth'] = tennis_df.tourney_date.astype(str).str[:6]\n",
    "tennis_df['tourney_year'] = tennis_df.tourney_date.astype(str).str[:4]\n",
    "tennis_df['tourney_year'] = tennis_df['tourney_year'].astype(int)"
   ]
  },
  {
   "cell_type": "markdown",
   "id": "8593f70b",
   "metadata": {
    "extensions": {
     "jupyter_dashboards": {
      "version": 1,
      "views": {
       "default_view": {
        "col": 0,
        "height": 2,
        "row": 59,
        "width": 12
       }
      }
     }
    }
   },
   "source": [
    "DEZHOU CHEN"
   ]
  },
  {
   "cell_type": "code",
   "execution_count": 75,
   "id": "92dbc421",
   "metadata": {
    "extensions": {
     "jupyter_dashboards": {
      "version": 1,
      "views": {
       "default_view": {
        "col": 0,
        "height": 9,
        "row": 61,
        "width": 4
       }
      }
     }
    }
   },
   "outputs": [
    {
     "data": {
      "application/vnd.jupyter.widget-view+json": {
       "model_id": "49c4fe772c444591888d7002b4c92f46",
       "version_major": 2,
       "version_minor": 0
      },
      "text/plain": [
       "interactive(children=(Dropdown(description='country', options=('ARG', 'ESP', 'SUI', 'USA', 'SRB'), value='ARG'…"
      ]
     },
     "metadata": {},
     "output_type": "display_data"
    }
   ],
   "source": [
    "@ipywidgets.interact(country = ['ARG','ESP','SUI','USA','SRB'])\n",
    "\n",
    "def position(country):\n",
    "    s = tennis_df[(tennis_df['tourney_level'] == 'G') & (tennis_df['winner_ioc'].isin([country]))].groupby(['tourney_year','winner_ioc']).agg('count')\n",
    "    plt.plot(s['tourney_id'].index.get_level_values(0), s['tourney_id'].values, color='blue', linestyle='dashed', marker='o', markerfacecolor='blue', markersize=2, label='Argentina')\n",
    "\n"
   ]
  },
  {
   "cell_type": "markdown",
   "id": "019ab11b",
   "metadata": {
    "extensions": {
     "jupyter_dashboards": {
      "version": 1,
      "views": {
       "default_view": {
        "col": 0,
        "height": 2,
        "row": 70,
        "width": 12
       }
      }
     }
    }
   },
   "source": [
    "GUANGYUAN LIU"
   ]
  },
  {
   "cell_type": "code",
   "execution_count": 76,
   "id": "7487f90c",
   "metadata": {
    "extensions": {
     "jupyter_dashboards": {
      "version": 1,
      "views": {
       "default_view": {
        "col": 0,
        "height": 12,
        "row": 72,
        "width": 8
       }
      }
     }
    }
   },
   "outputs": [
    {
     "data": {
      "application/vnd.jupyter.widget-view+json": {
       "model_id": "5ebfe757a4ae402b80728abd1603e52e",
       "version_major": 2,
       "version_minor": 0
      },
      "text/plain": [
       "interactive(children=(Dropdown(description='dimensions', options=('winner_rank', 'loser_rank', 'winner_age', '…"
      ]
     },
     "metadata": {},
     "output_type": "display_data"
    }
   ],
   "source": [
    "@ipywidgets.interact(dimensions = ['winner_rank','loser_rank','winner_age','loser_age','winner_ht','loser_ht','w_svpt','l_svpt'])\n",
    "\n",
    "\n",
    "def position(dimensions):\n",
    "    tennis_df[dimensions].plot(kind='hist',title = dimensions,figsize=(15,5), stacked=True)\n",
    "\n"
   ]
  }
 ],
 "metadata": {
  "extensions": {
   "jupyter_dashboards": {
    "activeView": "default_view",
    "version": 1,
    "views": {
     "default_view": {
      "cellMargin": 10,
      "defaultCellHeight": 40,
      "maxColumns": 12,
      "name": "active_view",
      "type": "grid"
     }
    }
   }
  },
  "kernelspec": {
   "display_name": "Python 3 (ipykernel)",
   "language": "python",
   "name": "python3"
  },
  "language_info": {
   "codemirror_mode": {
    "name": "ipython",
    "version": 3
   },
   "file_extension": ".py",
   "mimetype": "text/x-python",
   "name": "python",
   "nbconvert_exporter": "python",
   "pygments_lexer": "ipython3",
   "version": "3.9.7"
  }
 },
 "nbformat": 4,
 "nbformat_minor": 5
}
